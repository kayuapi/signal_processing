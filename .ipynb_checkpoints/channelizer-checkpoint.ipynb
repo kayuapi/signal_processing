{
 "cells": [
  {
   "cell_type": "code",
   "execution_count": 358,
   "id": "a0f44b2c-f150-4f9d-a70d-2e086c0c1b8a",
   "metadata": {},
   "outputs": [],
   "source": [
    "import numpy as np\n",
    "import matplotlib.pyplot as plt \n",
    "from scipy import signal \n",
    "import math\n",
    "# Set a wider linewidth for printing\n",
    "np.set_printoptions(linewidth=300) # Adjust as needed\n",
    "np.set_printoptions(precision=4) # Adjust as needed"
   ]
  },
  {
   "cell_type": "code",
   "execution_count": 399,
   "id": "23516aac-6d12-4f23-86b5-92b3534d33cc",
   "metadata": {},
   "outputs": [
    {
     "name": "stdout",
     "output_type": "stream",
     "text": [
      "(0.8458916252115258+4.1085925332457564e-17j)\n"
     ]
    },
    {
     "name": "stderr",
     "output_type": "stream",
     "text": [
      "/var/folders/t4/f61pdd9x60nbtc7tlcsj1fs80000gn/T/ipykernel_79909/1051271676.py:31: ComplexWarning: Casting complex values to real discards the imaginary part\n",
      "  v1[0:15,:] = np.flipud(x0[:, n:n+15].T).copy() # select next 15 inputs samples\n",
      "/var/folders/t4/f61pdd9x60nbtc7tlcsj1fs80000gn/T/ipykernel_79909/1051271676.py:39: ComplexWarning: Casting complex values to real discards the imaginary part\n",
      "  v2[k] = reg1[k, 0:16:2].reshape(1,8, order='F') @ hh1[k, :].reshape(8,1, order='F') # Top 15, odd index\n",
      "/var/folders/t4/f61pdd9x60nbtc7tlcsj1fs80000gn/T/ipykernel_79909/1051271676.py:40: ComplexWarning: Casting complex values to real discards the imaginary part\n",
      "  v2[k+15] = reg1[k+15, 1:16:2].reshape(1,8, order='F') @ hh1[k+15, :].reshape(8,1, order='F') # Bottom 15, even index\n"
     ]
    },
    {
     "data": {
      "image/png": "[encoded data removed]",
      "text/plain": [
       "<Figure size 640x480 with 1 Axes>"
      ]
     },
     "metadata": {},
     "output_type": "display_data"
    }
   ],
   "source": [
    "a = np.zeros((1, 2))\n",
    "b = np.reshape([1], (1, 1))\n",
    "c = np.zeros((1,500), dtype=complex)\n",
    "x0 = np.hstack((a, b, c))  # shape of (1, 503)\n",
    "x2 = np.zeros((1, 500), dtype=complex)\n",
    "n_theta = np.arange(-(4-1/30), 4, 1/30).reshape(1, 239, order='F')\n",
    "kaiser_window = np.kaiser(239, 8).reshape(1, 239, order='F')\n",
    "h1 = np.sinc(n_theta) * kaiser_window # windowed sinc\n",
    "hh1 = np.hstack((np.zeros((1,1), dtype=complex), h1)).reshape(30, 8, order='F').copy() # append leading zero and map to 2D array\n",
    "# np.arange(1, 9, 1).reshape(2, 4, order=\"F\") for debugging purpose\n",
    "h2 = np.sinc(n_theta*2.015) * kaiser_window\n",
    "h2 = h2/np.sum(h2)\n",
    "\n",
    "hh2 = np.hstack((np.zeros((1,1), dtype=complex), h2)).reshape(30, 8, order='F').copy() # append leading zero and map to 2D array \n",
    "m2 = 0 # output clock, synthesis channelizer\n",
    "\n",
    "v1 = np.zeros((1, 30)).T # input vector, analysis\n",
    "v2 = np.zeros((1, 30)).T # output of polyphase filter\n",
    "v3 = np.zeros((1, 30)).T # output of IFFT\n",
    "reg1 = np.zeros((30, 16)) # polyphase filter 2D register\n",
    "\n",
    "u3 = np.zeros((1, 30)).T # input vector, synthesis\n",
    "u2 = np.zeros((1, 30)).T # output of IFFT\n",
    "u1 = np.zeros((1, 15), dtype=complex).T # output of Polyphase filter\n",
    "reg2 = np.zeros((30, 16)) # polyphase filter 2D register\n",
    "flg1 = 0; # state flag for analysis circular buffer\n",
    "flg2 = 0; # state flag for synthesis circular buffer\n",
    "\n",
    "for n in range(0, x0.shape[1], 15):\n",
    "    try:\n",
    "        v1[0:15,:] = np.flipud(x0[:, n:n+15].T).copy() # select next 15 inputs samples\n",
    "    except:\n",
    "        pass\n",
    "    \n",
    "    v1[15:30,:] = v1[0:15,:].copy()   # copy top inputs to bottom inputs\n",
    "    reg1 = np.hstack((v1, reg1[:, 0:15])).copy()\n",
    "    #print(reg1[0, 0:16:2].reshape(1,8) @ hh1[0, :].reshape(8,1))\n",
    "    for k in range(15):\n",
    "        v2[k] = reg1[k, 0:16:2].reshape(1,8, order='F') @ hh1[k, :].reshape(8,1, order='F') # Top 15, odd index\n",
    "        v2[k+15] = reg1[k+15, 1:16:2].reshape(1,8, order='F') @ hh1[k+15, :].reshape(8,1, order='F') # Bottom 15, even index\n",
    "    if flg1 == 0:\n",
    "        flg1 = 1\n",
    "    else:\n",
    "        flg1 = 0\n",
    "        v2 = np.vstack((v2[15:30], v2[0:15]))\n",
    "    v3 = 30*np.fft.ifft(v2[:,0])\n",
    "    v3 = v3.reshape(30,1, order='F')\n",
    "    # print(np.ones((1,5)).T.shape)\n",
    "#    u3 = v3 * np.vstack((np.ones((1,5)).T, np.zeros((1,21)).T, np.ones((1,4)).T))\n",
    "   # print(v3)\n",
    "    u3 = v3 * np.array([[0], [1], [1], [1], [1], [1], [1], [1], [1], [1], [1], [1], [1], [1], [1], [1], [1], [1], [1], [1], [1], [1], [1], [1], [1], [1], [1], [1], [1], [1]])\n",
    "    #print(u3.shape)\n",
    "    #print(v3.shape)\n",
    "    u2 = 15*np.fft.ifft(u3[:,0])\n",
    "    u2 = u2.reshape(30,1, order='F')\n",
    "    if flg2 == 0:\n",
    "        flg2 = 1\n",
    "    else:\n",
    "        flg2 = 0\n",
    "        u2 = np.vstack((u2[15:30], u2[0:15]))\n",
    "    reg2 = np.hstack((u2, reg2[:, 0:15]))\n",
    "    for k in range(15):\n",
    "        u_top = reg2[k, 0:16:2].reshape(1,8, order='F') @ hh2[k, :].reshape(8,1, order='F') # Top 15, odd index\n",
    "        u_bottom = reg2[k+15, 1:16:2].reshape(1,8, order='F') @ hh2[k+15, :].reshape(8,1, order='F') # Bottom 15, even index\n",
    "        u1[k] = u_top + u_bottom\n",
    "    try:\n",
    "      x2[:, m2:m2+15] = u1.T\n",
    "    except:\n",
    "      pass\n",
    "    m2 = m2+15\n",
    "plt.plot((x2.T))\n",
    "print(x2[0,228])"
   ]
  },
  {
   "cell_type": "code",
   "execution_count": null,
   "id": "949c4eaa-f81e-444e-b9ca-df666238d789",
   "metadata": {},
   "outputs": [],
   "source": []
  }
 ],
 "metadata": {
  "kernelspec": {
   "display_name": "polyphase",
   "language": "python",
   "name": "polyphase"
  },
  "language_info": {
   "codemirror_mode": {
    "name": "ipython",
    "version": 3
   },
   "file_extension": ".py",
   "mimetype": "text/x-python",
   "name": "python",
   "nbconvert_exporter": "python",
   "pygments_lexer": "ipython3",
   "version": "3.13.3"
  }
 },
 "nbformat": 4,
 "nbformat_minor": 5
}
